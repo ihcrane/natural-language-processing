{
 "cells": [
  {
   "cell_type": "code",
   "execution_count": 2,
   "id": "54ceec18",
   "metadata": {},
   "outputs": [],
   "source": [
    "import pandas as pd\n",
    "import numpy as np\n",
    "import matplotlib.pyplot as plt\n",
    "import seaborn as sns\n",
    "import re\n",
    "\n",
    "import warnings\n",
    "warnings.filterwarnings('ignore')\n",
    "\n",
    "import acquire as a\n",
    "import prepare as prep"
   ]
  },
  {
   "cell_type": "markdown",
   "id": "15bf797a",
   "metadata": {},
   "source": [
    "# Regular Expression Lesson"
   ]
  },
  {
   "cell_type": "markdown",
   "id": "ac56fa81",
   "metadata": {},
   "source": [
    "### Write a function named is_vowel. It should accept a string as input and use a regular expression to determine if the passed string is a vowel. While not explicity mentioned in the lesson, you can treat the result of re.search as a boolean value that indicates whether or not the regular expression matches the given string."
   ]
  },
  {
   "cell_type": "code",
   "execution_count": 22,
   "id": "fcb3bcd9",
   "metadata": {},
   "outputs": [],
   "source": [
    "def is_vowel(string):\n",
    "    if re.search(r'^[aeiou]', string):\n",
    "        return True\n",
    "    else:\n",
    "        return False"
   ]
  },
  {
   "cell_type": "code",
   "execution_count": 24,
   "id": "46a0aa71",
   "metadata": {},
   "outputs": [
    {
     "data": {
      "text/plain": [
       "False"
      ]
     },
     "execution_count": 24,
     "metadata": {},
     "output_type": "execute_result"
    }
   ],
   "source": [
    "is_vowel('codeup')"
   ]
  },
  {
   "cell_type": "markdown",
   "id": "3c89421a",
   "metadata": {},
   "source": [
    "### Write a function named is_valid_username that accepts a string as input. A valid username starts with a lowercase letter, and only consists of lowercase letters, numbers, or the _ character. It should also be no longer than 32 characters. The function should return either True or False depending on whether the passed string is a valid username."
   ]
  },
  {
   "cell_type": "code",
   "execution_count": 60,
   "id": "e0d547bc",
   "metadata": {},
   "outputs": [],
   "source": [
    "def is_valid_username(string):\n",
    "    if (string.islower()) and (re.search(r'\\w', string)) and (len(string) < 33):\n",
    "        return True\n",
    "    else:\n",
    "        return False\n",
    "            \n",
    "        "
   ]
  },
  {
   "cell_type": "code",
   "execution_count": 63,
   "id": "0ada271b",
   "metadata": {},
   "outputs": [
    {
     "data": {
      "text/plain": [
       "True"
      ]
     },
     "execution_count": 63,
     "metadata": {},
     "output_type": "execute_result"
    }
   ],
   "source": [
    "is_valid_username('ihcrane')"
   ]
  },
  {
   "cell_type": "markdown",
   "id": "9d06db50",
   "metadata": {},
   "source": [
    "### Write a regular expression to capture phone numbers. It should match all of the following:\n",
    "- (210) 867 5309\n",
    "- +1 210.867.5309\n",
    "- 867-5309\n",
    "- 210-867-5309\n"
   ]
  },
  {
   "cell_type": "code",
   "execution_count": 43,
   "id": "a3e67f5f",
   "metadata": {},
   "outputs": [],
   "source": [
    "def phone_num(string):\n",
    "    num = ''\n",
    "    for s in string:\n",
    "        if s.isnumeric():\n",
    "            num = num + s\n",
    "            \n",
    "        else:\n",
    "            continue\n",
    "            \n",
    "    return num"
   ]
  },
  {
   "cell_type": "code",
   "execution_count": 47,
   "id": "bc5d6849",
   "metadata": {},
   "outputs": [
    {
     "data": {
      "text/plain": [
       "'2108675309'"
      ]
     },
     "execution_count": 47,
     "metadata": {},
     "output_type": "execute_result"
    }
   ],
   "source": [
    "phone_num('210-867-5309')"
   ]
  },
  {
   "cell_type": "markdown",
   "id": "fcac1923",
   "metadata": {},
   "source": [
    "### Use regular expressions to convert the dates below to the standardized year-month-day format.\n",
    "- 02/04/19\n",
    "- 02/05/19\n",
    "- 02/06/19\n",
    "- 02/07/19\n",
    "- 02/08/19\n",
    "- 02/09/19\n",
    "- 02/10/19\n"
   ]
  },
  {
   "cell_type": "code",
   "execution_count": 56,
   "id": "92bdf5b3",
   "metadata": {},
   "outputs": [],
   "source": [
    "def date_format(string):\n",
    "    \n",
    "    date = '20' + string[-2:] + '-' + string[3:5] + '-' + string[0:2]\n",
    "    \n",
    "    return date"
   ]
  },
  {
   "cell_type": "code",
   "execution_count": 59,
   "id": "7e8399f0",
   "metadata": {},
   "outputs": [
    {
     "data": {
      "text/plain": [
       "'2019-06-02'"
      ]
     },
     "execution_count": 59,
     "metadata": {},
     "output_type": "execute_result"
    }
   ],
   "source": [
    "date_format('02/06/19')"
   ]
  },
  {
   "cell_type": "markdown",
   "id": "ac746e50",
   "metadata": {},
   "source": [
    "### Write a regex to extract the various parts of these logfile lines:\n",
    "- GET /api/v1/sales?page=86 [16/Apr/2019:193452+0000] HTTP/1.1 {200} 510348 \"python-requests/2.21.0\" 97.105.19.58\n",
    "- POST /users_accounts/file-upload [16/Apr/2019:193452+0000] HTTP/1.1 {201} 42 \"User-Agent: Mozilla/5.0 (X11; Fedora; Fedora; Linux x86_64) AppleWebKit/537.36 (KHTML, like Gecko) Chrome/73.0.3683.86 Safari/537.36\" 97.105.19.58\n",
    "- GET /api/v1/items?page=3 [16/Apr/2019:193453+0000] HTTP/1.1 {429} 3561 \"python-requests/2.21.0\" 97.105.19.58\n"
   ]
  },
  {
   "cell_type": "code",
   "execution_count": null,
   "id": "21def0ab",
   "metadata": {},
   "outputs": [],
   "source": [
    "'''\n",
    "(?P<first_name>\\w+)?\n",
    "\\.?\n",
    "(?P<last_name>\\w+)?\n",
    "\\@\n",
    "(?P<domain>\\w+)\n",
    "\\.\n",
    "(?P<tld>\\w+)\n",
    "'''"
   ]
  },
  {
   "cell_type": "code",
   "execution_count": 130,
   "id": "5d4192ff",
   "metadata": {},
   "outputs": [
    {
     "name": "stdout",
     "output_type": "stream",
     "text": [
      "['GET /api/v1/sales?page=86 [16/Apr/2019:193452+0000] HTTP/1.1 {200} 510348 \"python-requests/2.21.0\" 97.105.19.58', 'POST /users_accounts/file-upload [16/Apr/2019:193452+0000] HTTP/1.1 {201} 42 \"User-Agent: Mozilla/5.0 (X11; Fedora; Fedora; Linux x86_64) AppleWebKit/537.36 (KHTML, like Gecko) Chrome/73.0.3683.86 Safari/537.36\" 97.105.19.58', 'GET /api/v1/items?page=3 [16/Apr/2019:193453+0000] HTTP/1.1 {429} 3561 \"python-requests/2.21.0\" 97.105.19.58']\n"
     ]
    }
   ],
   "source": [
    "logs = ['GET /api/v1/sales?page=86 [16/Apr/2019:193452+0000] HTTP/1.1 {200} 510348 \"python-requests/2.21.0\" 97.105.19.58',\n",
    "'POST /users_accounts/file-upload [16/Apr/2019:193452+0000] HTTP/1.1 {201} 42 \"User-Agent: Mozilla/5.0 (X11; Fedora; Fedora; Linux x86_64) AppleWebKit/537.36 (KHTML, like Gecko) Chrome/73.0.3683.86 Safari/537.36\" 97.105.19.58',\n",
    "'GET /api/v1/items?page=3 [16/Apr/2019:193453+0000] HTTP/1.1 {429} 3561 \"python-requests/2.21.0\" 97.105.19.58']\n",
    "print(logs)"
   ]
  },
  {
   "cell_type": "code",
   "execution_count": 152,
   "id": "1bd21f79",
   "metadata": {},
   "outputs": [],
   "source": [
    "pattern = re.compile(r'''\n",
    "(?P<request>GET\\s|POST\\s)?\n",
    "(?P<file_path>/[/a-z?=0-9_-]+\\s)?\n",
    "(?P<date_time>\\[.+\\]\\s)?\n",
    "(?P<protocl_ver>(HTTP/1\\.1)\\s)?\n",
    "(?P<port>\\{[0-9}]+)?\n",
    "(?P<length>\\s\\d+\\s)?\n",
    "(?P<user_agent>\\\".+\\\"\\s)?\n",
    "(?P<ip_address>\\d+(\\.\\d+){3})?\n",
    "''', flags = re.VERBOSE | re.MULTILINE)"
   ]
  },
  {
   "cell_type": "code",
   "execution_count": 153,
   "id": "aeb31d19",
   "metadata": {
    "scrolled": false
   },
   "outputs": [
    {
     "data": {
      "text/plain": [
       "[{'request': 'GET ',\n",
       "  'file_path': '/api/v1/sales?page=86 ',\n",
       "  'date_time': '[16/Apr/2019:193452+0000] ',\n",
       "  'protocl_ver': 'HTTP/1.1 ',\n",
       "  'port': '{200}',\n",
       "  'length': ' 510348 ',\n",
       "  'user_agent': '\"python-requests/2.21.0\" ',\n",
       "  'ip_address': '97.105.19.58'},\n",
       " {'request': 'POST ',\n",
       "  'file_path': '/users_accounts/file-upload ',\n",
       "  'date_time': '[16/Apr/2019:193452+0000] ',\n",
       "  'protocl_ver': 'HTTP/1.1 ',\n",
       "  'port': '{201}',\n",
       "  'length': ' 42 ',\n",
       "  'user_agent': '\"User-Agent: Mozilla/5.0 (X11; Fedora; Fedora; Linux x86_64) AppleWebKit/537.36 (KHTML, like Gecko) Chrome/73.0.3683.86 Safari/537.36\" ',\n",
       "  'ip_address': '97.105.19.58'},\n",
       " {'request': 'GET ',\n",
       "  'file_path': '/api/v1/items?page=3 ',\n",
       "  'date_time': '[16/Apr/2019:193453+0000] ',\n",
       "  'protocl_ver': 'HTTP/1.1 ',\n",
       "  'port': '{429}',\n",
       "  'length': ' 3561 ',\n",
       "  'user_agent': '\"python-requests/2.21.0\" ',\n",
       "  'ip_address': '97.105.19.58'}]"
      ]
     },
     "execution_count": 153,
     "metadata": {},
     "output_type": "execute_result"
    }
   ],
   "source": [
    "[re.search(pattern, log).groupdict() for log in logs]"
   ]
  },
  {
   "cell_type": "code",
   "execution_count": null,
   "id": "01f0884e",
   "metadata": {},
   "outputs": [],
   "source": []
  }
 ],
 "metadata": {
  "kernelspec": {
   "display_name": "Python 3 (ipykernel)",
   "language": "python",
   "name": "python3"
  },
  "language_info": {
   "codemirror_mode": {
    "name": "ipython",
    "version": 3
   },
   "file_extension": ".py",
   "mimetype": "text/x-python",
   "name": "python",
   "nbconvert_exporter": "python",
   "pygments_lexer": "ipython3",
   "version": "3.9.13"
  }
 },
 "nbformat": 4,
 "nbformat_minor": 5
}
