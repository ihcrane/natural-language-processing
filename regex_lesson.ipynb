{
 "cells": [
  {
   "cell_type": "code",
   "execution_count": 2,
   "id": "84a6de71",
   "metadata": {},
   "outputs": [],
   "source": [
    "import pandas as pd\n",
    "import numpy as np\n",
    "import matplotlib.pyplot as plt\n",
    "import seaborn as sns\n",
    "import re\n",
    "\n",
    "import warnings\n",
    "warnings.filterwarnings('ignore')\n",
    "\n",
    "import acquire as a\n",
    "import prepare as prep"
   ]
  },
  {
   "cell_type": "markdown",
   "id": "d66812b7",
   "metadata": {},
   "source": [
    "# Regular Expression Lesson"
   ]
  },
  {
   "cell_type": "markdown",
   "id": "84427ce3",
   "metadata": {},
   "source": [
    "### Write a function named is_vowel. It should accept a string as input and use a regular expression to determine if the passed string is a vowel. While not explicity mentioned in the lesson, you can treat the result of re.search as a boolean value that indicates whether or not the regular expression matches the given string."
   ]
  },
  {
   "cell_type": "code",
   "execution_count": 162,
   "id": "9a141b04",
   "metadata": {},
   "outputs": [],
   "source": [
    "def is_vowel(string):\n",
    "    value = False\n",
    "    for s in string:\n",
    "        if re.search(r'[aeiou]', s):\n",
    "            value = True\n",
    "        else:\n",
    "            return False\n",
    "\n",
    "    return value"
   ]
  },
  {
   "cell_type": "code",
   "execution_count": 166,
   "id": "f0a00ed5",
   "metadata": {},
   "outputs": [
    {
     "data": {
      "text/plain": [
       "False"
      ]
     },
     "execution_count": 166,
     "metadata": {},
     "output_type": "execute_result"
    }
   ],
   "source": [
    "is_vowel('codeup')"
   ]
  },
  {
   "cell_type": "markdown",
   "id": "aa4044b2",
   "metadata": {},
   "source": [
    "### Write a function named is_valid_username that accepts a string as input. A valid username starts with a lowercase letter, and only consists of lowercase letters, numbers, or the _ character. It should also be no longer than 32 characters. The function should return either True or False depending on whether the passed string is a valid username."
   ]
  },
  {
   "cell_type": "code",
   "execution_count": 188,
   "id": "d1ad8ec2",
   "metadata": {},
   "outputs": [],
   "source": [
    "def is_valid_username(string):\n",
    "    if (re.search(r'^[a-z][a-z0-9_]{1,32}', string)):\n",
    "        return True\n",
    "    else:\n",
    "        return False\n",
    "            \n",
    "        "
   ]
  },
  {
   "cell_type": "code",
   "execution_count": 189,
   "id": "e2e52263",
   "metadata": {},
   "outputs": [
    {
     "data": {
      "text/plain": [
       "True"
      ]
     },
     "execution_count": 189,
     "metadata": {},
     "output_type": "execute_result"
    }
   ],
   "source": [
    "is_valid_username('ihcrane')"
   ]
  },
  {
   "cell_type": "markdown",
   "id": "4fd777fb",
   "metadata": {},
   "source": [
    "### Write a regular expression to capture phone numbers. It should match all of the following:\n",
    "- (210) 867 5309\n",
    "- +1 210.867.5309\n",
    "- 867-5309\n",
    "- 210-867-5309\n"
   ]
  },
  {
   "cell_type": "code",
   "execution_count": 184,
   "id": "2ec36e49",
   "metadata": {},
   "outputs": [],
   "source": [
    "def phone_num(string):\n",
    "    if re.search(r'.*\\d{,3}.*\\d{3}.*\\d{4}', string):\n",
    "        return True\n",
    "    else:\n",
    "        return False"
   ]
  },
  {
   "cell_type": "code",
   "execution_count": 185,
   "id": "7bd5d90a",
   "metadata": {},
   "outputs": [
    {
     "data": {
      "text/plain": [
       "True"
      ]
     },
     "execution_count": 185,
     "metadata": {},
     "output_type": "execute_result"
    }
   ],
   "source": [
    "phone_num('210-867-5309')"
   ]
  },
  {
   "cell_type": "markdown",
   "id": "15aaaa35",
   "metadata": {},
   "source": [
    "### Use regular expressions to convert the dates below to the standardized year-month-day format.\n",
    "- 02/04/19\n",
    "- 02/05/19\n",
    "- 02/06/19\n",
    "- 02/07/19\n",
    "- 02/08/19\n",
    "- 02/09/19\n",
    "- 02/10/19\n"
   ]
  },
  {
   "cell_type": "code",
   "execution_count": 200,
   "id": "6d238a39",
   "metadata": {},
   "outputs": [
    {
     "data": {
      "text/plain": [
       "['2019/02/04',\n",
       " '2019/02/05',\n",
       " '2019/02/06',\n",
       " '2019/02/07',\n",
       " '2019/02/08',\n",
       " '2019/02/09',\n",
       " '2019/02/10']"
      ]
     },
     "execution_count": 200,
     "metadata": {},
     "output_type": "execute_result"
    }
   ],
   "source": [
    "date_reg = r'(\\d+)/(\\d+)/(\\d+)'\n",
    "dates = pd.Series(['02/04/19', '02/05/19', '02/06/19', '02/07/19', '02/08/19', '02/09/19', '02/10/19'])\n",
    "\n",
    "#1st value is now 2nd\n",
    "#2nd value is now 3rd \n",
    "#3rd value is now 1st\n",
    "[re.sub(date_reg, r'20\\3/\\1/\\2' ,date) for date in dates]"
   ]
  },
  {
   "cell_type": "markdown",
   "id": "2e35a35a",
   "metadata": {},
   "source": [
    "### Write a regex to extract the various parts of these logfile lines:\n",
    "- GET /api/v1/sales?page=86 [16/Apr/2019:193452+0000] HTTP/1.1 {200} 510348 \"python-requests/2.21.0\" 97.105.19.58\n",
    "- POST /users_accounts/file-upload [16/Apr/2019:193452+0000] HTTP/1.1 {201} 42 \"User-Agent: Mozilla/5.0 (X11; Fedora; Fedora; Linux x86_64) AppleWebKit/537.36 (KHTML, like Gecko) Chrome/73.0.3683.86 Safari/537.36\" 97.105.19.58\n",
    "- GET /api/v1/items?page=3 [16/Apr/2019:193453+0000] HTTP/1.1 {429} 3561 \"python-requests/2.21.0\" 97.105.19.58\n"
   ]
  },
  {
   "cell_type": "code",
   "execution_count": 130,
   "id": "b092dce9",
   "metadata": {},
   "outputs": [
    {
     "name": "stdout",
     "output_type": "stream",
     "text": [
      "['GET /api/v1/sales?page=86 [16/Apr/2019:193452+0000] HTTP/1.1 {200} 510348 \"python-requests/2.21.0\" 97.105.19.58', 'POST /users_accounts/file-upload [16/Apr/2019:193452+0000] HTTP/1.1 {201} 42 \"User-Agent: Mozilla/5.0 (X11; Fedora; Fedora; Linux x86_64) AppleWebKit/537.36 (KHTML, like Gecko) Chrome/73.0.3683.86 Safari/537.36\" 97.105.19.58', 'GET /api/v1/items?page=3 [16/Apr/2019:193453+0000] HTTP/1.1 {429} 3561 \"python-requests/2.21.0\" 97.105.19.58']\n"
     ]
    }
   ],
   "source": [
    "logs = ['GET /api/v1/sales?page=86 [16/Apr/2019:193452+0000] HTTP/1.1 {200} 510348 \"python-requests/2.21.0\" 97.105.19.58',\n",
    "'POST /users_accounts/file-upload [16/Apr/2019:193452+0000] HTTP/1.1 {201} 42 \"User-Agent: Mozilla/5.0 (X11; Fedora; Fedora; Linux x86_64) AppleWebKit/537.36 (KHTML, like Gecko) Chrome/73.0.3683.86 Safari/537.36\" 97.105.19.58',\n",
    "'GET /api/v1/items?page=3 [16/Apr/2019:193453+0000] HTTP/1.1 {429} 3561 \"python-requests/2.21.0\" 97.105.19.58']\n",
    "print(logs)"
   ]
  },
  {
   "cell_type": "code",
   "execution_count": 203,
   "id": "ab8a7ce6",
   "metadata": {},
   "outputs": [],
   "source": [
    "pattern = re.compile(r'''\n",
    "(?P<request>GET|POST)?\n",
    "\\s+\n",
    "(?P<file_path>/[/a-z?=0-9_-]+)?\n",
    "\\s+\n",
    "(?P<date_time>\\[.+\\])?\n",
    "\\s+\n",
    "(?P<protocol_ver>\\w+/\\d+\\.\\d+)?\n",
    "\\s+\n",
    "(?P<port>\\{[0-9}]+)?\n",
    "\\s+\n",
    "(?P<length>\\d+)?\n",
    "\\s+\n",
    "(?P<user_agent>\\\".+\\\")?\n",
    "\\s+\n",
    "(?P<ip_address>\\d+(\\.\\d+){3})?\n",
    "''', flags = re.VERBOSE)"
   ]
  },
  {
   "cell_type": "code",
   "execution_count": 204,
   "id": "90dc7ace",
   "metadata": {
    "scrolled": false
   },
   "outputs": [
    {
     "data": {
      "text/plain": [
       "[{'request': 'GET',\n",
       "  'file_path': '/api/v1/sales?page=86',\n",
       "  'date_time': '[16/Apr/2019:193452+0000]',\n",
       "  'protocol_ver': 'HTTP/1.1',\n",
       "  'port': '{200}',\n",
       "  'length': '510348',\n",
       "  'user_agent': '\"python-requests/2.21.0\"',\n",
       "  'ip_address': '97.105.19.58'},\n",
       " {'request': 'POST',\n",
       "  'file_path': '/users_accounts/file-upload',\n",
       "  'date_time': '[16/Apr/2019:193452+0000]',\n",
       "  'protocol_ver': 'HTTP/1.1',\n",
       "  'port': '{201}',\n",
       "  'length': '42',\n",
       "  'user_agent': '\"User-Agent: Mozilla/5.0 (X11; Fedora; Fedora; Linux x86_64) AppleWebKit/537.36 (KHTML, like Gecko) Chrome/73.0.3683.86 Safari/537.36\"',\n",
       "  'ip_address': '97.105.19.58'},\n",
       " {'request': 'GET',\n",
       "  'file_path': '/api/v1/items?page=3',\n",
       "  'date_time': '[16/Apr/2019:193453+0000]',\n",
       "  'protocol_ver': 'HTTP/1.1',\n",
       "  'port': '{429}',\n",
       "  'length': '3561',\n",
       "  'user_agent': '\"python-requests/2.21.0\"',\n",
       "  'ip_address': '97.105.19.58'}]"
      ]
     },
     "execution_count": 204,
     "metadata": {},
     "output_type": "execute_result"
    }
   ],
   "source": [
    "[re.search(pattern, log).groupdict() for log in logs]"
   ]
  },
  {
   "cell_type": "code",
   "execution_count": null,
   "id": "b82cf7f9",
   "metadata": {},
   "outputs": [],
   "source": []
  }
 ],
 "metadata": {
  "kernelspec": {
   "display_name": "Python 3 (ipykernel)",
   "language": "python",
   "name": "python3"
  },
  "language_info": {
   "codemirror_mode": {
    "name": "ipython",
    "version": 3
   },
   "file_extension": ".py",
   "mimetype": "text/x-python",
   "name": "python",
   "nbconvert_exporter": "python",
   "pygments_lexer": "ipython3",
   "version": "3.9.13"
  }
 },
 "nbformat": 4,
 "nbformat_minor": 5
}
